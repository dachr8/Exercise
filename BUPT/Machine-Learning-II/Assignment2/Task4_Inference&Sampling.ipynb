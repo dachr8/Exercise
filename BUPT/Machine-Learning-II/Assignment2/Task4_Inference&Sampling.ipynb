{
 "cells": [
  {
   "cell_type": "markdown",
   "metadata": {},
   "source": [
    "# 机器学习作业题目4实验报告\n",
    "## 题目 4：推断和采样 (20 points)"
   ]
  },
  {
   "cell_type": "markdown",
   "metadata": {},
   "source": [
    "注：由于编程和实验的软件环境使用的是Jupyter Notebook，且为图方便，将代码和实验报告一起编写，以之实验报告中含有所有使用的代码，有些位置不合时宜，望见谅。"
   ]
  },
  {
   "cell_type": "markdown",
   "metadata": {},
   "source": [
    "### 任务定义：\n",
    ">邻居 John 或 Mary 在听到我家的警铃响时，可能会给我打电话，警铃响可能因为发生地震或强盗。Burglary、Earthquake、Alarm、JohnCalls、MaryCalls 的取值可以是 True 或 False。这 5 个随机变量构成的贝叶斯网络入下图所示。\n",
    "\n",
    "<img src=\"41.png\" width=50% height=50%>\n",
    "\n",
    ">（1）试通过精确推断（例如，变量消去法）计算后验概率$P(Burglary|JohnCalls = true, MaryCalls = false)$，计算后验概率$P(Burglary, Earthquake|JohnCalls = true, MaryCalls = false)$。\n",
    "\n",
    ">（2）试通过 Gibbs 抽样，生成近似其真实分布的 100 个样本。并分析如何判断预热期结束。"
   ]
  },
  {
   "cell_type": "markdown",
   "metadata": {},
   "source": [
    "### 输入输出：\n",
    "- （1）精确推断：\n",
    "    - 输入：需要推断的变量表达式\n",
    "    - 输出：后验概率\n",
    "- （2）Gibbs抽样：\n",
    "    - 输入：无（贝叶斯网络已知）\n",
    "    - 输出：近似真实分布的100个样本"
   ]
  },
  {
   "cell_type": "markdown",
   "metadata": {},
   "source": [
    "### 方法描述"
   ]
  },
  {
   "cell_type": "markdown",
   "metadata": {},
   "source": [
    "#### 变量消去法"
   ]
  },
  {
   "cell_type": "markdown",
   "metadata": {},
   "source": [
    "首先转换后验概率：\n",
    "$\\begin{cases}\n",
    "P(B|J=T, M=F)\n",
    "=\\frac{P(B, J=T, M=F)}{P(J=T, M=F)}\n",
    "\\\\\n",
    "P(B, E|J=T, M=F)\n",
    "=\\frac{P(B, E, J=T, M=F)}{P(J=T, M=F)}\n",
    "\\end{cases}$\n",
    "\n",
    "即：\n",
    "$\\begin{cases}\n",
    "P(B=T|J=T, M=F)\n",
    "=\\frac{P(B=T, J=T, M=F)}{P(J=T, M=F)}\n",
    "\\\\\n",
    "P(B=F|J=T, M=F)\n",
    "=\\frac{P(B=F, E, J=T, M=F)}{P(J=T, M=F)}\n",
    "\\\\\n",
    "P(B=T, E=T|J=T, M=F)\n",
    "=\\frac{P(B=T, E=T, J=T, M=F)}{P(J=T, M=F)}\n",
    "\\\\\n",
    "P(B=T, E=F|J=T, M=F)\n",
    "=\\frac{P(B=T, E=F, J=T, M=F)}{P(J=T, M=F)}\n",
    "\\\\\n",
    "P(B=F, E=T|J=T, M=F)\n",
    "=\\frac{P(B=F, E=T, J=T, M=F)}{P(J=T, M=F)}\n",
    "\\\\\n",
    "P(B=F, E=F|J=T, M=F)\n",
    "=\\frac{P(B=F, E=F, J=T, M=F)}{P(J=T, M=F)}\n",
    "\\end{cases}$"
   ]
  },
  {
   "cell_type": "markdown",
   "metadata": {},
   "source": [
    "$\\begin{align}\n",
    "P(J=T, M=F)&=[P(B=T)P(E=T)P(A=T|B=T, E=T)+P(B=T)P(E=F)P(A=T|B=T, E=F)\n",
    "\\\\&+P(B=F)P(E=T)P(A=T|B=F, E=T)+P(B=F)P(E=F)P(A=T|B=F, E=F)]\n",
    "\\\\&*P(J=T|A=T)P(M=F|A=T)\n",
    "\\\\&+[P(B=T)P(E=T)P(A=F|B=T, E=T)+P(B=T)P(E=F)P(A=F|B=T, E=F)\n",
    "\\\\&+P(B=F)P(E=T)P(A=F|B=F, E=T)+P(B=F)P(E=F)P(A=F|B=F, E=F)]\n",
    "\\\\&*P(J=T|A=F)P(M=F|A=F)\n",
    "\\\\&=[0.001*0.002*0.95+0.001*0.998*0.94+0.999*0.002*0.29+0.999*0.998*0.001]*0.9*0.3\n",
    "\\\\&+[0.001*0.002*0.05+0.001*0.998*0.06+0.999*0.002*0.71+0.999*0.998*0.999]*0.05*0.99\n",
    "\\end{align}$\n",
    "\n",
    "$\\begin{align}\n",
    "P(B=T, J=T, M=F)\n",
    "&=P(B=T)[(P(E=T)P(A=T|B=T, E=T)+P(E=F)P(A=T|B=T, E=F))\n",
    "\\\\&*P(J=T|A=T)P(M=F|A=T)\n",
    "\\\\&+(P(E=T)P(A=F|B=T, E=T)+P(E=F)P(A=F|B=T, E=F))\n",
    "\\\\&*P(J=T|A=F)P(M=F|A=F)]\n",
    "\\\\&=0.001*[(0.002*0.95+0.998*0.94)*0.9*0.3+(0.002*0.05+0.998*0.06)*0.05*0.99]\n",
    "\\end{align}$\n",
    "\n",
    "$\\begin{align}\n",
    "P(B=F, J=T, M=F)\n",
    "&=P(B=F)[(P(E=T)P(A=T|B=F, E=T)+P(E=F)P(A=T|B=F, E=F))\n",
    "\\\\&*P(J=T|A=T)P(M=F|A=T)\n",
    "\\\\&+(P(E=T)P(A=F|B=F, E=T)+P(E=F)P(A=F|B=F, E=F))\n",
    "\\\\&*P(J=T|A=F)P(M=F|A=F)]\n",
    "\\\\&=0.999*[(0.002*0.29+0.998*0.001)*0.9*0.3+(0.002*0.71+0.998*0.999)*0.05*0.99]\n",
    "\\end{align}$\n",
    "\n",
    "$\\begin{align}\n",
    "P(B=T, E=T, J=T, M=F)\n",
    "&=P(B=T)P(E=T)[P(A=T|B=T, E=T)P(J=T|A=T)P(M=F|A=T)\n",
    "\\\\&+P(A=F|B=T, E=T)P(J=T|A=F)P(M=F|A=F)]\n",
    "\\\\&=0.001*0.002*[0.95*0.9*0.3+0.05*0.05*0.99]\n",
    "\\end{align}$\n",
    "\n",
    "$\\begin{align}\n",
    "P(B=T, E=F, J=T, M=F)\n",
    "&=P(B=T)P(E=F)[P(A=T|B=T, E=F)P(J=T|A=T)P(M=F|A=T)\n",
    "\\\\&+P(A=F|B=T, E=F)P(J=T|A=F)P(M=F|A=F)]\n",
    "\\\\&=0.001*0.998*[0.94*0.9*0.3+0.06*0.05*0.99]\n",
    "\\end{align}$\n",
    "\n",
    "$\\begin{align}\n",
    "P(B=F, E=T, J=T, M=F)\n",
    "&=P(B=F)P(E=T)[P(A=T|B=F, E=T)P(J=T|A=T)P(M=F|A=T)\n",
    "\\\\&+P(A=F|B=F, E=T)P(J=T|A=F)P(M=F|A=F)]\n",
    "\\\\&=0.999*0.002*[0.29*0.9*0.3+0.71*0.05*0.99]\n",
    "\\end{align}$\n",
    "\n",
    "$\\begin{align}\n",
    "P(B=F, E=F, J=T, M=F)\n",
    "&=P(B=F)P(E=F)[P(A=T|B=F, E=F)P(J=T|A=T)P(M=F|A=T)\n",
    "\\\\&+P(A=F|B=F, E=F)P(J=T|A=F)P(M=F|A=F)]\n",
    "\\\\&=0.999*0.998*[0.001*0.9*0.3+0.999*0.05*0.99]\n",
    "\\end{align}$"
   ]
  },
  {
   "cell_type": "markdown",
   "metadata": {},
   "source": [
    "#### Gibbs抽样"
   ]
  },
  {
   "cell_type": "markdown",
   "metadata": {},
   "source": [
    "首先，根据概率表达式写一个简单的函数，可以计算BEAJM五元组内任意取值时的概率P，缺点就是难以复用。（可跳过下面代码）"
   ]
  },
  {
   "cell_type": "code",
   "execution_count": 1,
   "metadata": {},
   "outputs": [],
   "source": [
    "# Calculate P with any params\n",
    "def P(B=None, E=None, A=None, J=None, M=None):\n",
    "    P_B = {True: 0.001, False: 0.999}\n",
    "    P_E = {True: 0.002, False: 0.998}\n",
    "    P_A_BE = {\n",
    "        (True, True): {\n",
    "            True: 0.95,\n",
    "            False: 0.05\n",
    "        },\n",
    "        (True, False): {\n",
    "            True: 0.94,\n",
    "            False: 0.06\n",
    "        },\n",
    "        (False, True): {\n",
    "            True: 0.29,\n",
    "            False: 0.71\n",
    "        },\n",
    "        (False, False): {\n",
    "            True: 0.001,\n",
    "            False: 0.999\n",
    "        }\n",
    "    }\n",
    "    P_J_A = {True: {True: 0.9, False: 0.1}, False: {True: 0.05, False: 0.95}}\n",
    "    P_M_A = {True: {True: 0.7, False: 0.3}, False: {True: 0.01, False: 0.99}}\n",
    "\n",
    "    P = 1\n",
    "    if B is not None:\n",
    "        P *= P_B[B]\n",
    "    if E is not None:\n",
    "        P *= P_E[E]\n",
    "\n",
    "    if A is not None or J is not None or M is not None:\n",
    "        if B is not None and E is not None:\n",
    "            P_AT = P_A_BE[(B, E)][True]\n",
    "            P_AF = P_A_BE[(B, E)][False]\n",
    "        elif B is not None and E is None:\n",
    "            P_AT = P_E[True] * P_A_BE[(B, True)][True] + P_E[False] * P_A_BE[\n",
    "                (B, False)][True]\n",
    "            P_AF = P_E[True] * P_A_BE[(B, True)][False] + P_E[False] * P_A_BE[\n",
    "                (B, False)][False]\n",
    "        elif B is None and E is not None:\n",
    "            P_AT = P_B[True] * P_A_BE[(True, E)][True] + P_B[False] * P_A_BE[\n",
    "                (False, E)][True]\n",
    "            P_AF = P_B[True] * P_A_BE[(True, E)][False] + P_B[False] * P_A_BE[\n",
    "                (False, E)][False]\n",
    "        else:\n",
    "            P_AT = P_B[True] * P_E[True] * P_A_BE[\n",
    "                (True, True)][True] + P_B[True] * P_E[False] * P_A_BE[\n",
    "                    (True, False)][True] + P_B[False] * P_E[True] * P_A_BE[(\n",
    "                        False, True)][True] + P_B[False] * P_E[False] * P_A_BE[\n",
    "                            (False, False)][True]\n",
    "            P_AF = P_B[True] * P_E[True] * P_A_BE[\n",
    "                (True, True)][False] + P_B[True] * P_E[False] * P_A_BE[\n",
    "                    (True, False)][False] + P_B[False] * P_E[True] * P_A_BE[\n",
    "                        (False,\n",
    "                         True)][False] + P_B[False] * P_E[False] * P_A_BE[\n",
    "                             (False, False)][False]\n",
    "            \n",
    "        P_A = {True: P_AT, False: P_AF}\n",
    "\n",
    "        if A is not None and J is None and M is None:\n",
    "            P_A = {A: P_A[A], not A: 0}\n",
    "\n",
    "        if J is not None:\n",
    "            if A is not None:\n",
    "                P_JT = P_A[A] * P_J_A[A][J]\n",
    "                P_A = {A: P_JT, not A: 0}\n",
    "            else:\n",
    "                P_JT = P_A[True] * P_J_A[True][J]\n",
    "                P_JF = P_A[False] * P_J_A[False][J]\n",
    "                P_A = {True: P_JT, False: P_JF}\n",
    "        if M is not None:\n",
    "            if A is not None:\n",
    "                P_MT = P_A[A] * P_M_A[A][M]\n",
    "                P_A = {A: P_MT, not A: 0}\n",
    "            else:\n",
    "                P_MT = P_A[True] * P_M_A[True][M]\n",
    "                P_MF = P_A[False] * P_M_A[False][M]\n",
    "                P_A = {True: P_MT, False: P_MF}\n",
    "                \n",
    "        P *= P_A[True] + P_A[False]\n",
    "        \n",
    "    return P"
   ]
  },
  {
   "cell_type": "markdown",
   "metadata": {},
   "source": [
    "然后，再设计函数GibbsSampling，输入初始状态和抽取样本数量t，然后运行Gibbs迭代，在BEAJM中第一次出现True（突变）后开始采样100次。（可跳过下面代码）"
   ]
  },
  {
   "cell_type": "code",
   "execution_count": 2,
   "metadata": {},
   "outputs": [
    {
     "name": "stdout",
     "output_type": "stream",
     "text": [
      "Populating the interactive namespace from numpy and matplotlib\n"
     ]
    }
   ],
   "source": [
    "# Import numpy as np and matplotlib as plt\n",
    "%pylab inline\n",
    "\n",
    "\n",
    "def GibbsSampling(x=[False, False, False, False, False], t=100):\n",
    "\n",
    "    samples = []\n",
    "    flag = False\n",
    "\n",
    "    while True:\n",
    "        rands = np.random.rand(5)\n",
    "\n",
    "        # B\n",
    "        Q_B = P(x[0], x[1], x[2], x[3], x[4]) / P(\n",
    "            E=x[1], A=x[2], J=x[3], M=x[4])\n",
    "        if rands[0] > Q_B:\n",
    "            x[0] = not x[0]  #B\n",
    "\n",
    "        Q_E = P(x[0], x[1], x[2], x[3], x[4]) / P(\n",
    "            B=x[0], A=x[2], J=x[3], M=x[4])\n",
    "        if rands[1] > Q_E:\n",
    "            x[1] = not x[1]  # E\n",
    "\n",
    "        Q_A = P(x[0], x[1], x[2], x[3], x[4]) / P(\n",
    "            B=x[0], E=x[1], J=x[3], M=x[4])\n",
    "        if rands[2] > Q_A:\n",
    "            x[2] = not x[2]  # A\n",
    "\n",
    "        Q_J = P(x[0], x[1], x[2], x[3], x[4]) / P(\n",
    "            B=x[0], E=x[1], A=x[2], M=x[4])\n",
    "        if rands[3] > Q_J:\n",
    "            x[3] = not x[3]  # J\n",
    "\n",
    "        Q_M = P(x[0], x[1], x[2], x[3], x[4]) / P(\n",
    "            B=x[0], E=x[1], A=x[2], J=x[3])\n",
    "        if rands[4] > Q_M:\n",
    "            x[4] = not x[4]  # M\n",
    "\n",
    "        if True in x:\n",
    "            flag = True\n",
    "        if flag:\n",
    "            samples.append(np.array(x))\n",
    "            if len(samples) == t:\n",
    "                break\n",
    "    return np.asarray(samples)"
   ]
  },
  {
   "cell_type": "markdown",
   "metadata": {},
   "source": [
    "### 结果分析（性能评价）"
   ]
  },
  {
   "cell_type": "markdown",
   "metadata": {},
   "source": [
    "#### 变量消去法"
   ]
  },
  {
   "cell_type": "markdown",
   "metadata": {},
   "source": [
    "根据之前的概率公式算出如下结果："
   ]
  },
  {
   "cell_type": "code",
   "execution_count": 3,
   "metadata": {
    "scrolled": false
   },
   "outputs": [
    {
     "name": "stdout",
     "output_type": "stream",
     "text": [
      "𝑃(𝐵𝑢𝑟𝑔𝑙𝑎𝑟𝑦=𝑡𝑟𝑢𝑒|𝐽𝑜ℎ𝑛𝐶𝑎𝑙𝑙𝑠=𝑡𝑟𝑢𝑒,𝑀𝑎𝑟𝑦𝐶𝑎𝑙𝑙𝑠=𝑓𝑎𝑙𝑠𝑒)≈0.005129858\n",
      "𝑃(𝐵𝑢𝑟𝑔𝑙𝑎𝑟𝑦=𝑓𝑎𝑙𝑠𝑒|𝐽𝑜ℎ𝑛𝐶𝑎𝑙𝑙𝑠=𝑡𝑟𝑢𝑒,𝑀𝑎𝑟𝑦𝐶𝑎𝑙𝑙𝑠=𝑓𝑎𝑙𝑠𝑒)≈0.994870142\n",
      "𝑃(𝐵𝑢𝑟𝑔𝑙𝑎𝑟𝑦=𝑡𝑟𝑢𝑒,𝐸𝑎𝑟𝑡ℎ𝑞𝑢𝑎𝑘𝑒=𝑡𝑟𝑢𝑒|𝐽𝑜ℎ𝑛𝐶𝑎𝑙𝑙𝑠=𝑡𝑟𝑢𝑒,𝑀𝑎𝑟𝑦𝐶𝑎𝑙𝑙𝑠=𝑓𝑎𝑙𝑠𝑒)≈0.000010348\n",
      "𝑃(𝐵𝑢𝑟𝑔𝑙𝑎𝑟𝑦=𝑡𝑟𝑢𝑒,𝐸𝑎𝑟𝑡ℎ𝑞𝑢𝑎𝑘𝑒=𝑓𝑎𝑙𝑠𝑒|𝐽𝑜ℎ𝑛𝐶𝑎𝑙𝑙𝑠=𝑡𝑟𝑢𝑒,𝑀𝑎𝑟𝑦𝐶𝑎𝑙𝑙𝑠=𝑓𝑎𝑙𝑠𝑒)≈0.005119510\n",
      "𝑃(𝐵𝑢𝑟𝑔𝑙𝑎𝑟𝑦=𝑓𝑎𝑙𝑠𝑒,𝐸𝑎𝑟𝑡ℎ𝑞𝑢𝑎𝑘𝑒=𝑡𝑟𝑢𝑒|𝐽𝑜ℎ𝑛𝐶𝑎𝑙𝑙𝑠=𝑡𝑟𝑢𝑒,𝑀𝑎𝑟𝑦𝐶𝑎𝑙𝑙𝑠=𝑓𝑎𝑙𝑠𝑒)≈0.004528292\n",
      "𝑃(𝐵𝑢𝑟𝑔𝑙𝑎𝑟𝑦=𝑓𝑎𝑙𝑠𝑒,𝐸𝑎𝑟𝑡ℎ𝑞𝑢𝑎𝑘𝑒=𝑓𝑎𝑙𝑠𝑒|𝐽𝑜ℎ𝑛𝐶𝑎𝑙𝑙𝑠=𝑡𝑟𝑢𝑒,𝑀𝑎𝑟𝑦𝐶𝑎𝑙𝑙𝑠=𝑓𝑎𝑙𝑠𝑒)≈0.990341850\n"
     ]
    }
   ],
   "source": [
    "P_JTMF = (0.001 * 0.002 * 0.95 + 0.001 * 0.998 * 0.94 + 0.999 * 0.002 * 0.29 +\n",
    "          0.999 * 0.998 * 0.001) * 0.9 * 0.3 + (\n",
    "              0.001 * 0.002 * 0.05 + 0.001 * 0.998 * 0.06 +\n",
    "              0.999 * 0.002 * 0.71 + 0.999 * 0.998 * 0.999) * 0.05 * 0.99\n",
    "P_BTJTMF = 0.001 * ((0.002 * 0.95 + 0.998 * 0.94) * 0.9 * 0.3 +\n",
    "                    (0.002 * 0.05 + 0.998 * 0.06) * 0.05 * 0.99)\n",
    "P_BFJTMF = 0.999 * ((0.002 * 0.29 + 0.998 * 0.001) * 0.9 * 0.3 +\n",
    "                    (0.002 * 0.71 + 0.998 * 0.999) * 0.05 * 0.99)\n",
    "P_BTETJTMF = 0.001 * 0.002 * (0.95 * 0.9 * 0.3 + 0.05 * 0.05 * 0.99)\n",
    "P_BTEFJTMF = 0.001 * 0.998 * (0.94 * 0.9 * 0.3 + 0.06 * 0.05 * 0.99)\n",
    "P_BFETJTMF = 0.999 * 0.002 * (0.29 * 0.9 * 0.3 + 0.71 * 0.05 * 0.99)\n",
    "P_BFEFJTMF = 0.999 * 0.998 * (0.001 * 0.9 * 0.3 + 0.999 * 0.05 * 0.99)\n",
    "\n",
    "P1_T = P_BTJTMF / P_JTMF\n",
    "P1_F = P_BFJTMF / P_JTMF\n",
    "P2_TT = P_BTETJTMF / P_JTMF\n",
    "P2_TF = P_BTEFJTMF / P_JTMF\n",
    "P2_FT = P_BFETJTMF / P_JTMF\n",
    "P2_FF = P_BFEFJTMF / P_JTMF\n",
    "\n",
    "print(\"𝑃(𝐵𝑢𝑟𝑔𝑙𝑎𝑟𝑦=𝑡𝑟𝑢𝑒|𝐽𝑜ℎ𝑛𝐶𝑎𝑙𝑙𝑠=𝑡𝑟𝑢𝑒,𝑀𝑎𝑟𝑦𝐶𝑎𝑙𝑙𝑠=𝑓𝑎𝑙𝑠𝑒)≈\" + format(P1_T, '.9f'))\n",
    "print(\"𝑃(𝐵𝑢𝑟𝑔𝑙𝑎𝑟𝑦=𝑓𝑎𝑙𝑠𝑒|𝐽𝑜ℎ𝑛𝐶𝑎𝑙𝑙𝑠=𝑡𝑟𝑢𝑒,𝑀𝑎𝑟𝑦𝐶𝑎𝑙𝑙𝑠=𝑓𝑎𝑙𝑠𝑒)≈\" +\n",
    "      format(P1_F, '.9f'))\n",
    "print(\"𝑃(𝐵𝑢𝑟𝑔𝑙𝑎𝑟𝑦=𝑡𝑟𝑢𝑒,𝐸𝑎𝑟𝑡ℎ𝑞𝑢𝑎𝑘𝑒=𝑡𝑟𝑢𝑒|𝐽𝑜ℎ𝑛𝐶𝑎𝑙𝑙𝑠=𝑡𝑟𝑢𝑒,𝑀𝑎𝑟𝑦𝐶𝑎𝑙𝑙𝑠=𝑓𝑎𝑙𝑠𝑒)≈\" +\n",
    "      format(P2_TT, '.9f'))\n",
    "print(\"𝑃(𝐵𝑢𝑟𝑔𝑙𝑎𝑟𝑦=𝑡𝑟𝑢𝑒,𝐸𝑎𝑟𝑡ℎ𝑞𝑢𝑎𝑘𝑒=𝑓𝑎𝑙𝑠𝑒|𝐽𝑜ℎ𝑛𝐶𝑎𝑙𝑙𝑠=𝑡𝑟𝑢𝑒,𝑀𝑎𝑟𝑦𝐶𝑎𝑙𝑙𝑠=𝑓𝑎𝑙𝑠𝑒)≈\" +\n",
    "      format(P2_TF, '.9f'))\n",
    "print(\"𝑃(𝐵𝑢𝑟𝑔𝑙𝑎𝑟𝑦=𝑓𝑎𝑙𝑠𝑒,𝐸𝑎𝑟𝑡ℎ𝑞𝑢𝑎𝑘𝑒=𝑡𝑟𝑢𝑒|𝐽𝑜ℎ𝑛𝐶𝑎𝑙𝑙𝑠=𝑡𝑟𝑢𝑒,𝑀𝑎𝑟𝑦𝐶𝑎𝑙𝑙𝑠=𝑓𝑎𝑙𝑠𝑒)≈\" +\n",
    "      format(P2_FT, '.9f'))\n",
    "print(\"𝑃(𝐵𝑢𝑟𝑔𝑙𝑎𝑟𝑦=𝑓𝑎𝑙𝑠𝑒,𝐸𝑎𝑟𝑡ℎ𝑞𝑢𝑎𝑘𝑒=𝑓𝑎𝑙𝑠𝑒|𝐽𝑜ℎ𝑛𝐶𝑎𝑙𝑙𝑠=𝑡𝑟𝑢𝑒,𝑀𝑎𝑟𝑦𝐶𝑎𝑙𝑙𝑠=𝑓𝑎𝑙𝑠𝑒)≈\" +\n",
    "      format(P2_FF, '.9f'))"
   ]
  },
  {
   "cell_type": "markdown",
   "metadata": {},
   "source": [
    "经过下列验算，2组概率和为1，证明变量消去法计算无误。"
   ]
  },
  {
   "cell_type": "code",
   "execution_count": 4,
   "metadata": {
    "scrolled": true
   },
   "outputs": [
    {
     "name": "stdout",
     "output_type": "stream",
     "text": [
      "𝑃(𝐵𝑢𝑟𝑔𝑙𝑎𝑟𝑦=𝑡𝑟𝑢𝑒|𝐽𝑜ℎ𝑛𝐶𝑎𝑙𝑙𝑠=𝑡𝑟𝑢𝑒,𝑀𝑎𝑟𝑦𝐶𝑎𝑙𝑙𝑠=𝑓𝑎𝑙𝑠𝑒)+𝑃(𝐵𝑢𝑟𝑔𝑙𝑎𝑟𝑦=𝑓𝑎𝑙𝑠𝑒|𝐽𝑜ℎ𝑛𝐶𝑎𝑙𝑙𝑠=𝑡𝑟𝑢𝑒,𝑀𝑎𝑟𝑦𝐶𝑎𝑙𝑙𝑠=𝑓𝑎𝑙𝑠𝑒)=1.000000000\n",
      "𝑃(𝐵𝑢𝑟𝑔𝑙𝑎𝑟𝑦=𝑡𝑟𝑢𝑒,𝐸𝑎𝑟𝑡ℎ𝑞𝑢𝑎𝑘𝑒=𝑡𝑟𝑢𝑒|𝐽𝑜ℎ𝑛𝐶𝑎𝑙𝑙𝑠=𝑡𝑟𝑢𝑒,𝑀𝑎𝑟𝑦𝐶𝑎𝑙𝑙𝑠=𝑓𝑎𝑙𝑠𝑒)\n",
      "+𝑃(𝐵𝑢𝑟𝑔𝑙𝑎𝑟𝑦=𝑡𝑟𝑢𝑒,𝐸𝑎𝑟𝑡ℎ𝑞𝑢𝑎𝑘𝑒=𝑓𝑎𝑙𝑠𝑒|𝐽𝑜ℎ𝑛𝐶𝑎𝑙𝑙𝑠=𝑡𝑟𝑢𝑒,𝑀𝑎𝑟𝑦𝐶𝑎𝑙𝑙𝑠=𝑓𝑎𝑙𝑠𝑒)\n",
      "+𝑃(𝐵𝑢𝑟𝑔𝑙𝑎𝑟𝑦=𝑓𝑎𝑙𝑠𝑒,𝐸𝑎𝑟𝑡ℎ𝑞𝑢𝑎𝑘𝑒=𝑡𝑟𝑢𝑒|𝐽𝑜ℎ𝑛𝐶𝑎𝑙𝑙𝑠=𝑡𝑟𝑢𝑒,𝑀𝑎𝑟𝑦𝐶𝑎𝑙𝑙𝑠=𝑓𝑎𝑙𝑠𝑒)\n",
      "+𝑃(𝐵𝑢𝑟𝑔𝑙𝑎𝑟𝑦=𝑓𝑎𝑙𝑠𝑒,𝐸𝑎𝑟𝑡ℎ𝑞𝑢𝑎𝑘𝑒=𝑓𝑎𝑙𝑠𝑒|𝐽𝑜ℎ𝑛𝐶𝑎𝑙𝑙𝑠=𝑡𝑟𝑢𝑒,𝑀𝑎𝑟𝑦𝐶𝑎𝑙𝑙𝑠=𝑓𝑎𝑙𝑠𝑒)=1.000000000\n"
     ]
    }
   ],
   "source": [
    "print(\n",
    "    \"𝑃(𝐵𝑢𝑟𝑔𝑙𝑎𝑟𝑦=𝑡𝑟𝑢𝑒|𝐽𝑜ℎ𝑛𝐶𝑎𝑙𝑙𝑠=𝑡𝑟𝑢𝑒,𝑀𝑎𝑟𝑦𝐶𝑎𝑙𝑙𝑠=𝑓𝑎𝑙𝑠𝑒)+𝑃(𝐵𝑢𝑟𝑔𝑙𝑎𝑟𝑦=𝑓𝑎𝑙𝑠𝑒|𝐽𝑜ℎ𝑛𝐶𝑎𝑙𝑙𝑠=𝑡𝑟𝑢𝑒,𝑀𝑎𝑟𝑦𝐶𝑎𝑙𝑙𝑠=𝑓𝑎𝑙𝑠𝑒)=\"\n",
    "    + format(P1_T + P1_F, '.9f'))\n",
    "\n",
    "print(\"𝑃(𝐵𝑢𝑟𝑔𝑙𝑎𝑟𝑦=𝑡𝑟𝑢𝑒,𝐸𝑎𝑟𝑡ℎ𝑞𝑢𝑎𝑘𝑒=𝑡𝑟𝑢𝑒|𝐽𝑜ℎ𝑛𝐶𝑎𝑙𝑙𝑠=𝑡𝑟𝑢𝑒,𝑀𝑎𝑟𝑦𝐶𝑎𝑙𝑙𝑠=𝑓𝑎𝑙𝑠𝑒)\")\n",
    "print(\"+𝑃(𝐵𝑢𝑟𝑔𝑙𝑎𝑟𝑦=𝑡𝑟𝑢𝑒,𝐸𝑎𝑟𝑡ℎ𝑞𝑢𝑎𝑘𝑒=𝑓𝑎𝑙𝑠𝑒|𝐽𝑜ℎ𝑛𝐶𝑎𝑙𝑙𝑠=𝑡𝑟𝑢𝑒,𝑀𝑎𝑟𝑦𝐶𝑎𝑙𝑙𝑠=𝑓𝑎𝑙𝑠𝑒)\")\n",
    "print(\"+𝑃(𝐵𝑢𝑟𝑔𝑙𝑎𝑟𝑦=𝑓𝑎𝑙𝑠𝑒,𝐸𝑎𝑟𝑡ℎ𝑞𝑢𝑎𝑘𝑒=𝑡𝑟𝑢𝑒|𝐽𝑜ℎ𝑛𝐶𝑎𝑙𝑙𝑠=𝑡𝑟𝑢𝑒,𝑀𝑎𝑟𝑦𝐶𝑎𝑙𝑙𝑠=𝑓𝑎𝑙𝑠𝑒)\")\n",
    "print(\"+𝑃(𝐵𝑢𝑟𝑔𝑙𝑎𝑟𝑦=𝑓𝑎𝑙𝑠𝑒,𝐸𝑎𝑟𝑡ℎ𝑞𝑢𝑎𝑘𝑒=𝑓𝑎𝑙𝑠𝑒|𝐽𝑜ℎ𝑛𝐶𝑎𝑙𝑙𝑠=𝑡𝑟𝑢𝑒,𝑀𝑎𝑟𝑦𝐶𝑎𝑙𝑙𝑠=𝑓𝑎𝑙𝑠𝑒)=\" +\n",
    "      format(P2_TT + P2_TF + P2_FT + P2_FF, '.9f'))"
   ]
  },
  {
   "cell_type": "markdown",
   "metadata": {},
   "source": [
    "补充：再使用Gibbs采样中设计的P函数重新计算一遍，证明变量消去法计算无误且P函数能正确计算"
   ]
  },
  {
   "cell_type": "code",
   "execution_count": 5,
   "metadata": {},
   "outputs": [
    {
     "name": "stdout",
     "output_type": "stream",
     "text": [
      "𝑃(𝐵𝑢𝑟𝑔𝑙𝑎𝑟𝑦=𝑡𝑟𝑢𝑒|𝐽𝑜ℎ𝑛𝐶𝑎𝑙𝑙𝑠=𝑡𝑟𝑢𝑒,𝑀𝑎𝑟𝑦𝐶𝑎𝑙𝑙𝑠=𝑓𝑎𝑙𝑠𝑒)≈0.005129858\n",
      "𝑃(𝐵𝑢𝑟𝑔𝑙𝑎𝑟𝑦=𝑓𝑎𝑙𝑠𝑒|𝐽𝑜ℎ𝑛𝐶𝑎𝑙𝑙𝑠=𝑡𝑟𝑢𝑒,𝑀𝑎𝑟𝑦𝐶𝑎𝑙𝑙𝑠=𝑓𝑎𝑙𝑠𝑒)≈0.994870142\n",
      "𝑃(𝐵𝑢𝑟𝑔𝑙𝑎𝑟𝑦=𝑡𝑟𝑢𝑒,𝐸𝑎𝑟𝑡ℎ𝑞𝑢𝑎𝑘𝑒=𝑡𝑟𝑢𝑒|𝐽𝑜ℎ𝑛𝐶𝑎𝑙𝑙𝑠=𝑡𝑟𝑢𝑒,𝑀𝑎𝑟𝑦𝐶𝑎𝑙𝑙𝑠=𝑓𝑎𝑙𝑠𝑒)≈0.000010348\n",
      "𝑃(𝐵𝑢𝑟𝑔𝑙𝑎𝑟𝑦=𝑡𝑟𝑢𝑒,𝐸𝑎𝑟𝑡ℎ𝑞𝑢𝑎𝑘𝑒=𝑓𝑎𝑙𝑠𝑒|𝐽𝑜ℎ𝑛𝐶𝑎𝑙𝑙𝑠=𝑡𝑟𝑢𝑒,𝑀𝑎𝑟𝑦𝐶𝑎𝑙𝑙𝑠=𝑓𝑎𝑙𝑠𝑒)≈0.005119510\n",
      "𝑃(𝐵𝑢𝑟𝑔𝑙𝑎𝑟𝑦=𝑓𝑎𝑙𝑠𝑒,𝐸𝑎𝑟𝑡ℎ𝑞𝑢𝑎𝑘𝑒=𝑡𝑟𝑢𝑒|𝐽𝑜ℎ𝑛𝐶𝑎𝑙𝑙𝑠=𝑡𝑟𝑢𝑒,𝑀𝑎𝑟𝑦𝐶𝑎𝑙𝑙𝑠=𝑓𝑎𝑙𝑠𝑒)≈0.004528292\n",
      "𝑃(𝐵𝑢𝑟𝑔𝑙𝑎𝑟𝑦=𝑓𝑎𝑙𝑠𝑒,𝐸𝑎𝑟𝑡ℎ𝑞𝑢𝑎𝑘𝑒=𝑓𝑎𝑙𝑠𝑒|𝐽𝑜ℎ𝑛𝐶𝑎𝑙𝑙𝑠=𝑡𝑟𝑢𝑒,𝑀𝑎𝑟𝑦𝐶𝑎𝑙𝑙𝑠=𝑓𝑎𝑙𝑠𝑒)≈0.990341850\n"
     ]
    }
   ],
   "source": [
    "P_JTMF_2 = P(J=True, M=False)\n",
    "P_BTJTMF_2 = P(B=True, J=True, M=False)\n",
    "P_BFJTMF_2 = P(B=False, J=True, M=False)\n",
    "P_BTETJTMF_2 = P(B=True, E=True, J=True, M=False)\n",
    "P_BTEFJTMF_2 = P(B=True, E=False, J=True, M=False)\n",
    "P_BFETJTMF_2 = P(B=False, E=True, J=True, M=False)\n",
    "P_BFEFJTMF_2 = P(B=False, E=False, J=True, M=False)\n",
    "\n",
    "P1_T_2 = P_BTJTMF_2 / P_JTMF_2\n",
    "P1_F_2 = P_BFJTMF_2 / P_JTMF_2\n",
    "P2_TT_2 = P_BTETJTMF_2 / P_JTMF_2\n",
    "P2_TF_2 = P_BTEFJTMF_2 / P_JTMF_2\n",
    "P2_FT_2 = P_BFETJTMF_2 / P_JTMF_2\n",
    "P2_FF_2 = P_BFEFJTMF_2 / P_JTMF_2\n",
    "\n",
    "print(\"𝑃(𝐵𝑢𝑟𝑔𝑙𝑎𝑟𝑦=𝑡𝑟𝑢𝑒|𝐽𝑜ℎ𝑛𝐶𝑎𝑙𝑙𝑠=𝑡𝑟𝑢𝑒,𝑀𝑎𝑟𝑦𝐶𝑎𝑙𝑙𝑠=𝑓𝑎𝑙𝑠𝑒)≈\" +\n",
    "      format(P1_T_2, '.9f'))\n",
    "print(\"𝑃(𝐵𝑢𝑟𝑔𝑙𝑎𝑟𝑦=𝑓𝑎𝑙𝑠𝑒|𝐽𝑜ℎ𝑛𝐶𝑎𝑙𝑙𝑠=𝑡𝑟𝑢𝑒,𝑀𝑎𝑟𝑦𝐶𝑎𝑙𝑙𝑠=𝑓𝑎𝑙𝑠𝑒)≈\" +\n",
    "      format(P1_F_2, '.9f'))\n",
    "print(\"𝑃(𝐵𝑢𝑟𝑔𝑙𝑎𝑟𝑦=𝑡𝑟𝑢𝑒,𝐸𝑎𝑟𝑡ℎ𝑞𝑢𝑎𝑘𝑒=𝑡𝑟𝑢𝑒|𝐽𝑜ℎ𝑛𝐶𝑎𝑙𝑙𝑠=𝑡𝑟𝑢𝑒,𝑀𝑎𝑟𝑦𝐶𝑎𝑙𝑙𝑠=𝑓𝑎𝑙𝑠𝑒)≈\" +\n",
    "      format(P2_TT_2, '.9f'))\n",
    "print(\"𝑃(𝐵𝑢𝑟𝑔𝑙𝑎𝑟𝑦=𝑡𝑟𝑢𝑒,𝐸𝑎𝑟𝑡ℎ𝑞𝑢𝑎𝑘𝑒=𝑓𝑎𝑙𝑠𝑒|𝐽𝑜ℎ𝑛𝐶𝑎𝑙𝑙𝑠=𝑡𝑟𝑢𝑒,𝑀𝑎𝑟𝑦𝐶𝑎𝑙𝑙𝑠=𝑓𝑎𝑙𝑠𝑒)≈\" +\n",
    "      format(P2_TF_2, '.9f'))\n",
    "print(\"𝑃(𝐵𝑢𝑟𝑔𝑙𝑎𝑟𝑦=𝑓𝑎𝑙𝑠𝑒,𝐸𝑎𝑟𝑡ℎ𝑞𝑢𝑎𝑘𝑒=𝑡𝑟𝑢𝑒|𝐽𝑜ℎ𝑛𝐶𝑎𝑙𝑙𝑠=𝑡𝑟𝑢𝑒,𝑀𝑎𝑟𝑦𝐶𝑎𝑙𝑙𝑠=𝑓𝑎𝑙𝑠𝑒)≈\" +\n",
    "      format(P2_FT_2, '.9f'))\n",
    "print(\"𝑃(𝐵𝑢𝑟𝑔𝑙𝑎𝑟𝑦=𝑓𝑎𝑙𝑠𝑒,𝐸𝑎𝑟𝑡ℎ𝑞𝑢𝑎𝑘𝑒=𝑓𝑎𝑙𝑠𝑒|𝐽𝑜ℎ𝑛𝐶𝑎𝑙𝑙𝑠=𝑡𝑟𝑢𝑒,𝑀𝑎𝑟𝑦𝐶𝑎𝑙𝑙𝑠=𝑓𝑎𝑙𝑠𝑒)≈\" +\n",
    "      format(P2_FF_2, '.9f'))"
   ]
  },
  {
   "cell_type": "markdown",
   "metadata": {},
   "source": [
    "#### Gibbs抽样"
   ]
  },
  {
   "cell_type": "markdown",
   "metadata": {},
   "source": [
    "以下是BEAJM各自独立的概率期望，用于评估采集的样本是否在和理想情况相似（可以同时看出P(True)+P(False)==1，函数P没有计算问题）"
   ]
  },
  {
   "cell_type": "code",
   "execution_count": 6,
   "metadata": {},
   "outputs": [
    {
     "name": "stdout",
     "output_type": "stream",
     "text": [
      "0.001 0.999\n",
      "0.002 0.998\n",
      "0.002516442 0.997483558\n",
      "0.052138975700000006 0.9478610243\n",
      "0.01173634498 0.98826365502\n"
     ]
    }
   ],
   "source": [
    "print(P(B=True), P(B=False))\n",
    "print(P(E=True), P(E=False))\n",
    "print(P(A=True), P(A=False))\n",
    "print(P(J=True), P(J=False))\n",
    "print(P(M=True), P(M=False))"
   ]
  },
  {
   "cell_type": "markdown",
   "metadata": {},
   "source": [
    "采集100个样本，因为概率过低的原因，B、E、A通常为0，J在0.05范围附近波动，M在0.01范围波动，和上面计算出的概率期望相近似"
   ]
  },
  {
   "cell_type": "code",
   "execution_count": 7,
   "metadata": {},
   "outputs": [
    {
     "name": "stdout",
     "output_type": "stream",
     "text": [
      "0.0\n",
      "0.0\n",
      "0.0\n",
      "0.05\n",
      "0.01\n"
     ]
    }
   ],
   "source": [
    "samples = GibbsSampling()\n",
    "for i in range(5):\n",
    "    print(np.average(samples[:, i]))"
   ]
  },
  {
   "cell_type": "markdown",
   "metadata": {},
   "source": [
    "生成近似其真实分布的 100 个样本，如下（可跳过）"
   ]
  },
  {
   "cell_type": "code",
   "execution_count": 8,
   "metadata": {},
   "outputs": [
    {
     "data": {
      "text/plain": [
       "array([[False, False, False,  True, False],\n",
       "       [False, False, False, False, False],\n",
       "       [False, False, False, False, False],\n",
       "       [False, False, False, False, False],\n",
       "       [False, False, False, False, False],\n",
       "       [False, False, False, False, False],\n",
       "       [False, False, False, False, False],\n",
       "       [False, False, False, False, False],\n",
       "       [False, False, False, False, False],\n",
       "       [False, False, False, False, False],\n",
       "       [False, False, False, False, False],\n",
       "       [False, False, False, False, False],\n",
       "       [False, False, False, False, False],\n",
       "       [False, False, False, False, False],\n",
       "       [False, False, False, False, False],\n",
       "       [False, False, False, False, False],\n",
       "       [False, False, False, False, False],\n",
       "       [False, False, False,  True, False],\n",
       "       [False, False, False, False, False],\n",
       "       [False, False, False, False, False],\n",
       "       [False, False, False, False, False],\n",
       "       [False, False, False, False, False],\n",
       "       [False, False, False, False, False],\n",
       "       [False, False, False, False, False],\n",
       "       [False, False, False, False, False],\n",
       "       [False, False, False, False, False],\n",
       "       [False, False, False, False, False],\n",
       "       [False, False, False, False, False],\n",
       "       [False, False, False, False,  True],\n",
       "       [False, False, False, False, False],\n",
       "       [False, False, False,  True, False],\n",
       "       [False, False, False, False, False],\n",
       "       [False, False, False, False, False],\n",
       "       [False, False, False, False, False],\n",
       "       [False, False, False, False, False],\n",
       "       [False, False, False, False, False],\n",
       "       [False, False, False, False, False],\n",
       "       [False, False, False, False, False],\n",
       "       [False, False, False, False, False],\n",
       "       [False, False, False, False, False],\n",
       "       [False, False, False, False, False],\n",
       "       [False, False, False, False, False],\n",
       "       [False, False, False, False, False],\n",
       "       [False, False, False, False, False],\n",
       "       [False, False, False, False, False],\n",
       "       [False, False, False, False, False],\n",
       "       [False, False, False,  True, False],\n",
       "       [False, False, False, False, False],\n",
       "       [False, False, False, False, False],\n",
       "       [False, False, False, False, False],\n",
       "       [False, False, False, False, False],\n",
       "       [False, False, False, False, False],\n",
       "       [False, False, False, False, False],\n",
       "       [False, False, False, False, False],\n",
       "       [False, False, False, False, False],\n",
       "       [False, False, False, False, False],\n",
       "       [False, False, False, False, False],\n",
       "       [False, False, False, False, False],\n",
       "       [False, False, False, False, False],\n",
       "       [False, False, False, False, False],\n",
       "       [False, False, False, False, False],\n",
       "       [False, False, False, False, False],\n",
       "       [False, False, False, False, False],\n",
       "       [False, False, False, False, False],\n",
       "       [False, False, False, False, False],\n",
       "       [False, False, False, False, False],\n",
       "       [False, False, False, False, False],\n",
       "       [False, False, False, False, False],\n",
       "       [False, False, False, False, False],\n",
       "       [False, False, False, False, False],\n",
       "       [False, False, False, False, False],\n",
       "       [False, False, False, False, False],\n",
       "       [False, False, False, False, False],\n",
       "       [False, False, False, False, False],\n",
       "       [False, False, False, False, False],\n",
       "       [False, False, False, False, False],\n",
       "       [False, False, False, False, False],\n",
       "       [False, False, False, False, False],\n",
       "       [False, False, False, False, False],\n",
       "       [False, False, False, False, False],\n",
       "       [False, False, False, False, False],\n",
       "       [False, False, False, False, False],\n",
       "       [False, False, False, False, False],\n",
       "       [False, False, False, False, False],\n",
       "       [False, False, False, False, False],\n",
       "       [False, False, False, False, False],\n",
       "       [False, False, False, False, False],\n",
       "       [False, False, False, False, False],\n",
       "       [False, False, False, False, False],\n",
       "       [False, False, False, False, False],\n",
       "       [False, False, False, False, False],\n",
       "       [False, False, False,  True, False],\n",
       "       [False, False, False, False, False],\n",
       "       [False, False, False, False, False],\n",
       "       [False, False, False, False, False],\n",
       "       [False, False, False, False, False],\n",
       "       [False, False, False, False, False],\n",
       "       [False, False, False, False, False],\n",
       "       [False, False, False, False, False],\n",
       "       [False, False, False, False, False]])"
      ]
     },
     "execution_count": 8,
     "metadata": {},
     "output_type": "execute_result"
    }
   ],
   "source": [
    "samples"
   ]
  },
  {
   "cell_type": "markdown",
   "metadata": {},
   "source": [
    "再采集100000个样本，可以看出BEAJM的独立概率期望和上面计算出的概率期望更加近似且稳定"
   ]
  },
  {
   "cell_type": "code",
   "execution_count": 9,
   "metadata": {},
   "outputs": [
    {
     "name": "stdout",
     "output_type": "stream",
     "text": [
      "0.00094\n",
      "0.002\n",
      "0.00241\n",
      "0.05306\n",
      "0.01138\n"
     ]
    }
   ],
   "source": [
    "samples_big = GibbsSampling(t=100000)\n",
    "for i in range(5):\n",
    "    print(np.average(samples_big[:, i]))"
   ]
  },
  {
   "cell_type": "markdown",
   "metadata": {},
   "source": [
    "结论：事件概率都很低的情况且采集样本过小的情况下，可以简单的以冰冻期（全为概率最高的False）作为初始参数，以破冰时刻（任意事件为True）作为预热期何时结束，即可采集到近似其真实分布的 100 个样本。如果认为有偏差，也可以在破冰时刻后开始采集大量的样本（远大于所需样本），之后再从大量样本中随机抽取所需数量的样本，也可以保证采集的样本近似其真实分布。"
   ]
  },
  {
   "cell_type": "markdown",
   "metadata": {},
   "source": [
    "### 编程和实验的软硬件环境\n",
    "- 软件环境\n",
    "    - OS：Windows 10\n",
    "    - IDE：PyCharm Professional + Jupyter Notebook\n",
    "    - Python：3.7\n",
    "- 硬件环境\n",
    "    - CPU：Intel(R) Core(TM) i7-9750H"
   ]
  }
 ],
 "metadata": {
  "kernelspec": {
   "display_name": "Python 3",
   "language": "python",
   "name": "python3"
  },
  "language_info": {
   "codemirror_mode": {
    "name": "ipython",
    "version": 3
   },
   "file_extension": ".py",
   "mimetype": "text/x-python",
   "name": "python",
   "nbconvert_exporter": "python",
   "pygments_lexer": "ipython3",
   "version": "3.7.7"
  }
 },
 "nbformat": 4,
 "nbformat_minor": 1
}
